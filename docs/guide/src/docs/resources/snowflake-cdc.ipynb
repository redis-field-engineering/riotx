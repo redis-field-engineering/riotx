{
 "metadata": {
  "kernelspec": {
   "display_name": "Snowpark",
   "language": "sql",
   "name": "snowpark"
  },
  "language_info": {
   "name": "sql"
  },
  "lastEditStatus": {
   "notebookId": "bhnslztnm2uqkt4ke2eo",
   "authorId": "8782640884544",
   "authorName": "JRUAUX",
   "authorEmail": "",
   "sessionId": "1b344910-793b-490b-935f-0ef9fedff673",
   "lastEditTime": 1749012791427
  }
 },
 "nbformat_minor": 4,
 "nbformat": 4,
 "cells": [
  {
   "cell_type": "markdown",
   "metadata": {
    "name": "cell1"
   },
   "source": [
    "# CDC Setup for RiotX Integration\n",
    "This notebook sets up Change Data Capture (CDC) environment with roles, permissions, and sample data for RiotX integration."
   ],
   "id": "ce110000-1111-2222-3333-ffffff000000"
  },
  {
   "cell_type": "markdown",
   "metadata": {
    "name": "cell2"
   },
   "source": [
    "## 1. Role and Permissions Setup\n",
    "Create a dedicated CDC role with minimal required permissions for RiotX integration"
   ],
   "id": "ce110000-1111-2222-3333-ffffff000001"
  },
  {
   "cell_type": "code",
   "execution_count": null,
   "metadata": {
    "name": "cell3",
    "language": "sql"
   },
   "outputs": [],
   "source": "CREATE OR REPLACE ROLE riotx_cdc\nCOMMENT = 'minimum cdc role for riotx';\n\n-- Grant warehouse access for compute operations\nGRANT USAGE, OPERATE ON WAREHOUSE compute_wh TO ROLE riotx_cdc;",
   "id": "ce110000-1111-2222-3333-ffffff000002"
  },
  {
   "cell_type": "markdown",
   "metadata": {
    "name": "cell4"
   },
   "source": [
    "## 2. Database and Schema Creation\n",
    "Set up the main database and schemas for raw POS data and CDC operations"
   ],
   "id": "ce110000-1111-2222-3333-ffffff000003"
  },
  {
   "cell_type": "code",
   "execution_count": null,
   "metadata": {
    "name": "cell5",
    "language": "sql"
   },
   "outputs": [],
   "source": "CREATE DATABASE IF NOT EXISTS tb_101;\nUSE DATABASE tb_101;\n\nCREATE OR REPLACE SCHEMA tb_101.raw_pos;\nCREATE OR REPLACE SCHEMA tb_101.raw_pos_cdc;\n\n-- Grant basic database and schema access to the CDC role\nGRANT USAGE ON DATABASE tb_101 TO ROLE riotx_cdc;\nGRANT USAGE ON SCHEMA tb_101.raw_pos TO ROLE riotx_cdc;\nGRANT USAGE ON SCHEMA tb_101.raw_pos_cdc TO ROLE riotx_cdc;",
   "id": "ce110000-1111-2222-3333-ffffff000004"
  },
  {
   "cell_type": "markdown",
   "metadata": {
    "name": "cell6"
   },
   "source": [
    "## 3. CDC-Specific Permissions\n",
    "Grant permissions needed for Change Data Capture operations"
   ],
   "id": "ce110000-1111-2222-3333-ffffff000005"
  },
  {
   "cell_type": "code",
   "execution_count": null,
   "metadata": {
    "name": "cell7",
    "language": "sql"
   },
   "outputs": [],
   "source": "GRANT SELECT ON FUTURE TABLES IN SCHEMA tb_101.raw_pos_cdc TO ROLE riotx_cdc;\nGRANT CREATE TABLE ON SCHEMA tb_101.raw_pos_cdc TO ROLE riotx_cdc;\nGRANT CREATE STREAM ON SCHEMA tb_101.raw_pos_cdc TO ROLE riotx_cdc;\nGRANT SELECT ON FUTURE STREAMS IN SCHEMA tb_101.raw_pos_cdc TO ROLE riotx_cdc;",
   "id": "ce110000-1111-2222-3333-ffffff000006"
  },
  {
   "cell_type": "markdown",
   "metadata": {
    "name": "cell8"
   },
   "source": [
    "## 4. User Creation and Role Assignment\n",
    "Create the RiotX CDC user with appropriate defaults and role assignments"
   ],
   "id": "ce110000-1111-2222-3333-ffffff000007"
  },
  {
   "cell_type": "code",
   "execution_count": null,
   "metadata": {
    "name": "cell9",
    "language": "sql"
   },
   "outputs": [],
   "source": "CREATE OR REPLACE USER riotx_cdc\n    DEFAULT_ROLE = 'riotx_cdc'\n    DEFAULT_WAREHOUSE = 'compute_wh'\n    PASSWORD = '{{PASSWORD}}';\n\n-- Assign roles to enable proper access hierarchy\nGRANT ROLE riotx_cdc TO ROLE accountadmin;\nGRANT ROLE riotx_cdc TO USER riotx_cdc;\nGRANT ROLE accountadmin TO USER riotx_cdc;",
   "id": "ce110000-1111-2222-3333-ffffff000008"
  },
  {
   "cell_type": "markdown",
   "metadata": {
    "name": "cell10"
   },
   "source": [
    "## 5. File Format and Stage Setup\n",
    "Configure CSV file format and S3 stage for data loading"
   ],
   "id": "ce110000-1111-2222-3333-ffffff000009"
  },
  {
   "cell_type": "code",
   "execution_count": null,
   "metadata": {
    "name": "cell11",
    "language": "sql"
   },
   "outputs": [],
   "source": "CREATE OR REPLACE FILE FORMAT tb_101.public.csv_ff\ntype = 'csv';\n\nCREATE OR REPLACE STAGE tb_101.public.s3load\nCOMMENT = 'Quickstarts S3 Stage Connection'\nURL = 's3://sfquickstarts/frostbyte_tastybytes/'\nFILE_FORMAT = tb_101.public.csv_ff;",
   "id": "ce110000-1111-2222-3333-ffffff000010"
  },
  {
   "cell_type": "markdown",
   "metadata": {
    "name": "cell12"
   },
   "source": [
    "## 6. Main Table Creation and Data Load\n",
    "Create the primary order_header table and load initial data from S3"
   ],
   "id": "ce110000-1111-2222-3333-ffffff000011"
  },
  {
   "cell_type": "code",
   "execution_count": null,
   "metadata": {
    "name": "cell13",
    "language": "sql"
   },
   "outputs": [],
   "source": "CREATE OR REPLACE TABLE tb_101.raw_pos.order_header\n(\n    order_id NUMBER(38,0),\n    truck_id NUMBER(38,0),\n    location_id FLOAT,\n    customer_id NUMBER(38,0),\n    discount_id VARCHAR(16777216),\n    shift_id NUMBER(38,0),\n    shift_start_time TIME(9),\n    shift_end_time TIME(9),\n    order_channel VARCHAR(16777216),\n    order_ts TIMESTAMP_NTZ(9),\n    served_ts VARCHAR(16777216),\n    order_currency VARCHAR(3),\n    order_amount NUMBER(38,4),\n    order_tax_amount VARCHAR(16777216),\n    order_discount_amount VARCHAR(16777216),\n    order_total NUMBER(38,4)\n);",
   "id": "ce110000-1111-2222-3333-ffffff000012"
  },
  {
   "cell_type": "code",
   "execution_count": null,
   "metadata": {
    "name": "cell14",
    "language": "sql"
   },
   "outputs": [],
   "source": "-- Load data from S3 stage with size limit\nCOPY INTO tb_101.raw_pos.order_header\n    FROM @tb_101.public.s3load/raw_pos/order_header/\n    SIZE_LIMIT = 200000;",
   "id": "ce110000-1111-2222-3333-ffffff000013"
  },
  {
   "cell_type": "markdown",
   "metadata": {
    "name": "cell15"
   },
   "source": [
    "## 7. CDC Table Setup and Permissions\n",
    "Create incremental table for CDC operations and enable change tracking"
   ],
   "id": "ce110000-1111-2222-3333-ffffff000014"
  },
  {
   "cell_type": "code",
   "execution_count": null,
   "metadata": {
    "name": "cell16",
    "language": "sql"
   },
   "outputs": [],
   "source": "CREATE OR REPLACE TABLE tb_101.raw_pos.incremental_order_header LIKE tb_101.raw_pos.order_header;\n\n-- Enable change tracking for CDC functionality\nALTER TABLE tb_101.raw_pos.INCREMENTAL_ORDER_HEADER SET CHANGE_TRACKING = TRUE;\n\n-- Grant read access to both tables for the CDC role\nGRANT SELECT ON TABLE tb_101.raw_pos.order_header TO ROLE riotx_cdc;\nGRANT SELECT ON TABLE tb_101.raw_pos.incremental_order_header TO ROLE riotx_cdc;",
   "id": "ce110000-1111-2222-3333-ffffff000015"
  },
  {
   "cell_type": "markdown",
   "metadata": {
    "name": "cell17"
   },
   "source": [
    "## 8. Initial Data Load and Testing\n",
    "Load sample data into the incremental table and verify the setup"
   ],
   "id": "ce110000-1111-2222-3333-ffffff000016"
  },
  {
   "cell_type": "code",
   "execution_count": null,
   "metadata": {
    "name": "cell18",
    "language": "sql"
   },
   "outputs": [],
   "source": "INSERT INTO tb_101.raw_pos.incremental_order_header\n SELECT * FROM tb_101.raw_pos.order_header\n LIMIT 100 OFFSET 0;",
   "id": "ce110000-1111-2222-3333-ffffff000017"
  },
  {
   "cell_type": "code",
   "execution_count": null,
   "metadata": {
    "name": "cell19",
    "language": "sql"
   },
   "outputs": [],
   "source": "-- Verify initial data load\nSELECT * FROM tb_101.raw_pos.incremental_order_header;",
   "id": "ce110000-1111-2222-3333-ffffff000018"
  },
  {
   "cell_type": "markdown",
   "metadata": {
    "name": "cell20"
   },
   "source": [
    "## 9. Additional Data Load\n",
    "Add more sample data to simulate incremental updates"
   ],
   "id": "ce110000-1111-2222-3333-ffffff000019"
  },
  {
   "cell_type": "code",
   "execution_count": null,
   "metadata": {
    "name": "cell21",
    "language": "sql"
   },
   "outputs": [],
   "source": "INSERT INTO tb_101.raw_pos.incremental_order_header\n SELECT * FROM tb_101.raw_pos.order_header\n LIMIT 1000 OFFSET 100;",
   "id": "ce110000-1111-2222-3333-ffffff000020"
  }
 ]
}