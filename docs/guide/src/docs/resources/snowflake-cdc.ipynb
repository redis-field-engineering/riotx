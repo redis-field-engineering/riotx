{
 "metadata": {
  "kernelspec": {
   "display_name": "Snowpark",
   "language": "sql",
   "name": "snowpark"
  },
  "language_info": {
   "name": "sql"
  },
  "lastEditStatus": {
   "notebookId": "bhnslztnm2uqkt4ke2eo",
   "authorId": "8782640884544",
   "authorName": "JRUAUX",
   "authorEmail": "",
   "sessionId": "d0ffd6aa-b144-475a-a478-946ac229bf61",
   "lastEditTime": 1753215424797
  }
 },
 "nbformat_minor": 4,
 "nbformat": 4,
 "cells": [
  {
   "cell_type": "markdown",
   "metadata": {
    "name": "Intro",
    "collapsed": false
   },
   "source": "# Redis Data Integration Demo\nThis notebook sets up Change Data Capture (CDC) environment with roles, permissions, and sample data for demoing Redis Data Integration.",
   "id": "ce110000-1111-2222-3333-ffffff000000"
  },
  {
   "cell_type": "code",
   "execution_count": null,
   "metadata": {
    "name": "init",
    "language": "sql"
   },
   "outputs": [],
   "source": "// Role and permissions setup\n\nCREATE OR REPLACE ROLE riotx_cdc\nCOMMENT = 'minimum cdc role for riotx';\n\n-- Grant warehouse access for compute operations\nGRANT USAGE, OPERATE ON WAREHOUSE compute_wh TO ROLE riotx_cdc;\n\nCREATE DATABASE IF NOT EXISTS tb_101;\nUSE DATABASE tb_101;\n\nCREATE OR REPLACE SCHEMA tb_101.raw_pos;\nCREATE OR REPLACE SCHEMA tb_101.raw_pos_cdc;\n\n-- Grant basic database and schema access to the CDC role\nGRANT USAGE ON DATABASE tb_101 TO ROLE riotx_cdc;\nGRANT USAGE ON SCHEMA tb_101.raw_pos TO ROLE riotx_cdc;\nGRANT USAGE ON SCHEMA tb_101.raw_pos_cdc TO ROLE riotx_cdc;\n\nGRANT SELECT ON FUTURE TABLES IN SCHEMA tb_101.raw_pos_cdc TO ROLE riotx_cdc;\nGRANT CREATE TABLE ON SCHEMA tb_101.raw_pos_cdc TO ROLE riotx_cdc;\nGRANT CREATE STREAM ON SCHEMA tb_101.raw_pos_cdc TO ROLE riotx_cdc;\nGRANT SELECT ON FUTURE STREAMS IN SCHEMA tb_101.raw_pos_cdc TO ROLE riotx_cdc;\n\nCREATE OR REPLACE USER riotx_cdc\n    DEFAULT_ROLE = 'riotx_cdc'\n    DEFAULT_WAREHOUSE = 'compute_wh'\n    PASSWORD = '{{PASSWORD}}';\n\n-- Assign roles to enable proper access hierarchy\nGRANT ROLE riotx_cdc TO ROLE accountadmin;\nGRANT ROLE riotx_cdc TO USER riotx_cdc;\nGRANT ROLE accountadmin TO USER riotx_cdc;",
   "id": "ce110000-1111-2222-3333-ffffff000002"
  },
  {
   "cell_type": "code",
   "execution_count": null,
   "metadata": {
    "name": "populate",
    "language": "sql"
   },
   "outputs": [],
   "source": "// Create and populate table\n\nCREATE OR REPLACE FILE FORMAT tb_101.public.csv_ff type = 'csv';\n\nCREATE OR REPLACE STAGE tb_101.public.s3load\n    COMMENT = 'Quickstarts S3 Stage Connection'\n    URL = 's3://sfquickstarts/frostbyte_tastybytes/'\n    FILE_FORMAT = tb_101.public.csv_ff;\n\nCREATE OR REPLACE TABLE tb_101.raw_pos.order_header\n(\n    order_id NUMBER(38,0),\n    truck_id NUMBER(38,0),\n    location_id FLOAT,\n    customer_id NUMBER(38,0),\n    discount_id VARCHAR(16777216),\n    shift_id NUMBER(38,0),\n    shift_start_time TIME(9),\n    shift_end_time TIME(9),\n    order_channel VARCHAR(16777216),\n    order_ts TIMESTAMP_NTZ(9),\n    served_ts VARCHAR(16777216),\n    order_currency VARCHAR(3),\n    order_amount NUMBER(38,4),\n    order_tax_amount VARCHAR(16777216),\n    order_discount_amount VARCHAR(16777216),\n    order_total NUMBER(38,4)\n);\n\n-- Load data from S3 stage with size limit\nCOPY INTO tb_101.raw_pos.order_header\n    FROM @tb_101.public.s3load/raw_pos/order_header/\n    SIZE_LIMIT = 1000;\n\nCREATE OR REPLACE TABLE tb_101.raw_pos.incremental_order_header LIKE tb_101.raw_pos.order_header;\n\n-- Enable change tracking for CDC functionality\nALTER TABLE tb_101.raw_pos.INCREMENTAL_ORDER_HEADER SET CHANGE_TRACKING = TRUE;\n\n-- Grant read access to both tables for the CDC role\nGRANT SELECT ON TABLE tb_101.raw_pos.order_header TO ROLE riotx_cdc;\nGRANT SELECT ON TABLE tb_101.raw_pos.incremental_order_header TO ROLE riotx_cdc;\n\n-- Insert initial rows\nINSERT INTO tb_101.raw_pos.incremental_order_header\n    SELECT * FROM tb_101.raw_pos.order_header\n    LIMIT 100 OFFSET 0;\n\n-- Show first rows\nSELECT * FROM tb_101.raw_pos.incremental_order_header limit 10;",
   "id": "ce110000-1111-2222-3333-ffffff000010"
  },
  {
   "cell_type": "code",
   "execution_count": null,
   "metadata": {
    "name": "additional_data",
    "language": "sql"
   },
   "outputs": [],
   "source": "-- Insert additional data\nINSERT INTO tb_101.raw_pos.incremental_order_header\n   SELECT * FROM tb_101.raw_pos.order_header\n   LIMIT 100 OFFSET 100;\n\nSELECT COUNT(*) FROM tb_101.raw_pos.incremental_order_header;",
   "id": "ce110000-1111-2222-3333-ffffff000020"
  },
  {
   "cell_type": "code",
   "id": "067b02dd-25f6-4159-bd2d-1bf1505e272e",
   "metadata": {
    "language": "sql",
    "name": "update",
    "codeCollapsed": false
   },
   "outputs": [],
   "source": "// Update a row\n\nUPDATE tb_101.raw_pos.incremental_order_header SET truck_id=123456 WHERE order_id=4063900;",
   "execution_count": null
  },
  {
   "cell_type": "code",
   "id": "0c3a0d5a-f415-4eef-97f2-7d6227e87235",
   "metadata": {
    "language": "sql",
    "name": "delete"
   },
   "outputs": [],
   "source": "// Delete a row\n\nDELETE FROM tb_101.raw_pos.incremental_order_header where ORDER_ID=4063900;",
   "execution_count": null
  }
 ]
}